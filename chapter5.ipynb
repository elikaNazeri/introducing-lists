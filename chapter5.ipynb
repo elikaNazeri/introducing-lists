{
 "cells": [
  {
   "cell_type": "code",
   "execution_count": 10,
   "metadata": {},
   "outputs": [
    {
     "name": "stdout",
     "output_type": "stream",
     "text": [
      "Is tests == math? I predict True\n",
      "True\n",
      "\n",
      "Is tests == science? I predict False\n",
      "False\n",
      "Soup\n",
      "PIZZA\n",
      "Sandwich\n",
      "Potato\n"
     ]
    },
    {
     "data": {
      "text/plain": [
       "False"
      ]
     },
     "execution_count": 10,
     "metadata": {},
     "output_type": "execute_result"
    }
   ],
   "source": [
    "#5-1\n",
    "tests = 'math'\n",
    "print(\"Is tests == math? I predict True\")\n",
    "print(tests == 'math')\n",
    "print('\\nIs tests == science? I predict False')\n",
    "print(tests == 'science')\n",
    "#5-2\n",
    "foods = ['soup', 'pizza', 'sandwich', 'potato']\n",
    "for food in foods:\n",
    "    if food == 'pizza':\n",
    "        print(food.upper())\n",
    "    else:\n",
    "        print(food.title()) \n",
    "food = 'mushroom'\n",
    "food == 'mushroom' \n",
    "\n",
    "car = 'audi'\n",
    "if car != 'audi':\n",
    "    print('you can buy it as soon as possible!')\n",
    "age_0 = 10\n",
    "age_1 = 20\n",
    "age_0 >= 11 and age_1 >= 11\n",
    "\n",
    "\n"
   ]
  },
  {
   "cell_type": "code",
   "execution_count": 6,
   "metadata": {},
   "outputs": [
    {
     "name": "stdout",
     "output_type": "stream",
     "text": [
      "The player just earned 5 points!\n",
      "the player just earned 5 points for shooting the alien.\n"
     ]
    }
   ],
   "source": [
    "#5-3\n",
    "alien_color = ['green', 'red', 'yrllow']\n",
    "if 'green' in alien_color:\n",
    "    print(\"The player just earned 5 points!\")\n",
    "#5-4\n",
    "if 'green' in alien_color:\n",
    "    print(\"the player just earned 5 points for shooting the alien.\")\n",
    "elif not 'green' in alien_color:\n",
    "    print(\"the player just earned 10 pints.\")\n",
    "\n"
   ]
  },
  {
   "cell_type": "code",
   "execution_count": 7,
   "metadata": {},
   "outputs": [
    {
     "name": "stdout",
     "output_type": "stream",
     "text": [
      "The player earned 5 points.\n"
     ]
    }
   ],
   "source": [
    "#5-4\n",
    "alien_color = ['green', 'red', 'yrllow']\n",
    "if 'green' in alien_color:\n",
    "    print(\"The player earned 5 points.\")\n",
    "elif 'yellow' in alien_color:\n",
    "    print(\"The player earned 10 points.\")\n",
    "else:\n",
    "    print(\"The player earned 15 points.\")    "
   ]
  },
  {
   "cell_type": "code",
   "execution_count": null,
   "metadata": {},
   "outputs": [],
   "source": [
    "stageOfLife = ['baby', 'toddler', 'kid', 'teenager', 'adult','elder']\n",
    "age_0 = 2\n",
    "age_1 = 3\n",
    "if age_0 <= 2:\n",
    "    print(\"you are baby.\")\n",
    "elif age_1 >= 2:\n",
    "    print(\"You are toddler.\")\n",
    "elif         \n"
   ]
  }
 ],
 "metadata": {
  "kernelspec": {
   "display_name": "Python 3",
   "language": "python",
   "name": "python3"
  },
  "language_info": {
   "codemirror_mode": {
    "name": "ipython",
    "version": 3
   },
   "file_extension": ".py",
   "mimetype": "text/x-python",
   "name": "python",
   "nbconvert_exporter": "python",
   "pygments_lexer": "ipython3",
   "version": "3.11.1"
  },
  "orig_nbformat": 4,
  "vscode": {
   "interpreter": {
    "hash": "fd247c13dbadd0b0877533ca9741c8b9130dba32ca712ec4005fbe1430cf670e"
   }
  }
 },
 "nbformat": 4,
 "nbformat_minor": 2
}
